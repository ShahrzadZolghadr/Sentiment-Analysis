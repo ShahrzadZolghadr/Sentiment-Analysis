{
  "nbformat": 4,
  "nbformat_minor": 0,
  "metadata": {
    "colab": {
      "name": "SA_Naive_Bayes.ipynb",
      "provenance": [],
      "collapsed_sections": []
    },
    "kernelspec": {
      "display_name": "Python 3",
      "name": "python3"
    },
    "language_info": {
      "name": "python"
    }
  },
  "cells": [
    {
      "cell_type": "code",
      "metadata": {
        "id": "4HgQSTI85Teg"
      },
      "source": [
        "%load utils_prepro.py\n",
        "import utils_prepro"
      ],
      "execution_count": 2,
      "outputs": []
    },
    {
      "cell_type": "code",
      "metadata": {
        "id": "f1XdLuo93grB"
      },
      "source": [
        "#!pip install hazm\n",
        "#!pip install -q clean-text[gpl]"
      ],
      "execution_count": 4,
      "outputs": []
    },
    {
      "cell_type": "code",
      "metadata": {
        "colab": {
          "base_uri": "https://localhost:8080/"
        },
        "id": "XillXiUxWI-E",
        "outputId": "e877b589-7ea9-4a5a-8f3c-8c694fb63b54"
      },
      "source": [
        "!unzip drive/MyDrive/snappfood"
      ],
      "execution_count": 5,
      "outputs": [
        {
          "output_type": "stream",
          "text": [
            "Archive:  drive/MyDrive/snappfood.zip\n",
            "   creating: snappfood/\n",
            "  inflating: __MACOSX/._snappfood    \n",
            "  inflating: snappfood/test.csv      \n",
            "  inflating: __MACOSX/snappfood/._test.csv  \n",
            "  inflating: snappfood/dev.csv       \n",
            "  inflating: __MACOSX/snappfood/._dev.csv  \n",
            "  inflating: snappfood/train.csv     \n",
            "  inflating: __MACOSX/snappfood/._train.csv  \n"
          ],
          "name": "stdout"
        }
      ]
    },
    {
      "cell_type": "code",
      "metadata": {
        "id": "YNwSxwRI7_OE"
      },
      "source": [
        "import pandas as pd\n",
        "import numpy as np\n",
        "from sklearn.feature_extraction.text import CountVectorizer\n",
        "from sklearn.naive_bayes import MultinomialNB\n",
        "from sklearn.metrics import classification_report\n",
        "from sklearn.metrics import f1_score"
      ],
      "execution_count": 11,
      "outputs": []
    },
    {
      "cell_type": "code",
      "metadata": {
        "colab": {
          "base_uri": "https://localhost:8080/",
          "height": 203
        },
        "id": "0LUV9dxoXNQX",
        "outputId": "3fc93234-d8a8-402e-c2ee-8c86fac29c82"
      },
      "source": [
        "train = pd.read_csv('snappfood/train.csv',error_bad_lines=False,sep = '\\t', encoding='utf-8')\n",
        "test = pd.read_csv('snappfood/test.csv',error_bad_lines=False,sep = '\\t', encoding='utf-8')\n",
        "dev = pd.read_csv('snappfood/dev.csv',error_bad_lines=False,sep = '\\t', encoding='utf-8')\n",
        "train.head()"
      ],
      "execution_count": 7,
      "outputs": [
        {
          "output_type": "execute_result",
          "data": {
            "text/html": [
              "<div>\n",
              "<style scoped>\n",
              "    .dataframe tbody tr th:only-of-type {\n",
              "        vertical-align: middle;\n",
              "    }\n",
              "\n",
              "    .dataframe tbody tr th {\n",
              "        vertical-align: top;\n",
              "    }\n",
              "\n",
              "    .dataframe thead th {\n",
              "        text-align: right;\n",
              "    }\n",
              "</style>\n",
              "<table border=\"1\" class=\"dataframe\">\n",
              "  <thead>\n",
              "    <tr style=\"text-align: right;\">\n",
              "      <th></th>\n",
              "      <th>Unnamed: 0</th>\n",
              "      <th>comment</th>\n",
              "      <th>label</th>\n",
              "      <th>label_id</th>\n",
              "    </tr>\n",
              "  </thead>\n",
              "  <tbody>\n",
              "    <tr>\n",
              "      <th>0</th>\n",
              "      <td>0</td>\n",
              "      <td>واقعا حیف وقت که بنویسم سرویس دهیتون شده افتضاح</td>\n",
              "      <td>SAD</td>\n",
              "      <td>1</td>\n",
              "    </tr>\n",
              "    <tr>\n",
              "      <th>1</th>\n",
              "      <td>1</td>\n",
              "      <td>قرار بود ۱ ساعته برسه ولی نیم ساعت زودتر از مو...</td>\n",
              "      <td>HAPPY</td>\n",
              "      <td>0</td>\n",
              "    </tr>\n",
              "    <tr>\n",
              "      <th>2</th>\n",
              "      <td>2</td>\n",
              "      <td>قیمت این مدل اصلا با کیفیتش سازگاری نداره، فقط...</td>\n",
              "      <td>SAD</td>\n",
              "      <td>1</td>\n",
              "    </tr>\n",
              "    <tr>\n",
              "      <th>3</th>\n",
              "      <td>3</td>\n",
              "      <td>عالللی بود همه چه درست و به اندازه و کیفیت خوب...</td>\n",
              "      <td>HAPPY</td>\n",
              "      <td>0</td>\n",
              "    </tr>\n",
              "    <tr>\n",
              "      <th>4</th>\n",
              "      <td>4</td>\n",
              "      <td>شیرینی وانیلی فقط یک مدل بود.</td>\n",
              "      <td>HAPPY</td>\n",
              "      <td>0</td>\n",
              "    </tr>\n",
              "  </tbody>\n",
              "</table>\n",
              "</div>"
            ],
            "text/plain": [
              "   Unnamed: 0  ... label_id\n",
              "0           0  ...        1\n",
              "1           1  ...        0\n",
              "2           2  ...        1\n",
              "3           3  ...        0\n",
              "4           4  ...        0\n",
              "\n",
              "[5 rows x 4 columns]"
            ]
          },
          "metadata": {},
          "execution_count": 7
        }
      ]
    },
    {
      "cell_type": "code",
      "metadata": {
        "colab": {
          "base_uri": "https://localhost:8080/",
          "height": 203
        },
        "id": "yHEYNLfi09vI",
        "outputId": "e2945eab-77d4-4500-eeb4-1d856bafd537"
      },
      "source": [
        "train = train[['comment', 'label_id']]\n",
        "test = test[['comment', 'label_id']]\n",
        "dev = dev[['comment', 'label_id']]\n",
        "train.head()"
      ],
      "execution_count": 8,
      "outputs": [
        {
          "output_type": "execute_result",
          "data": {
            "text/html": [
              "<div>\n",
              "<style scoped>\n",
              "    .dataframe tbody tr th:only-of-type {\n",
              "        vertical-align: middle;\n",
              "    }\n",
              "\n",
              "    .dataframe tbody tr th {\n",
              "        vertical-align: top;\n",
              "    }\n",
              "\n",
              "    .dataframe thead th {\n",
              "        text-align: right;\n",
              "    }\n",
              "</style>\n",
              "<table border=\"1\" class=\"dataframe\">\n",
              "  <thead>\n",
              "    <tr style=\"text-align: right;\">\n",
              "      <th></th>\n",
              "      <th>comment</th>\n",
              "      <th>label_id</th>\n",
              "    </tr>\n",
              "  </thead>\n",
              "  <tbody>\n",
              "    <tr>\n",
              "      <th>0</th>\n",
              "      <td>واقعا حیف وقت که بنویسم سرویس دهیتون شده افتضاح</td>\n",
              "      <td>1</td>\n",
              "    </tr>\n",
              "    <tr>\n",
              "      <th>1</th>\n",
              "      <td>قرار بود ۱ ساعته برسه ولی نیم ساعت زودتر از مو...</td>\n",
              "      <td>0</td>\n",
              "    </tr>\n",
              "    <tr>\n",
              "      <th>2</th>\n",
              "      <td>قیمت این مدل اصلا با کیفیتش سازگاری نداره، فقط...</td>\n",
              "      <td>1</td>\n",
              "    </tr>\n",
              "    <tr>\n",
              "      <th>3</th>\n",
              "      <td>عالللی بود همه چه درست و به اندازه و کیفیت خوب...</td>\n",
              "      <td>0</td>\n",
              "    </tr>\n",
              "    <tr>\n",
              "      <th>4</th>\n",
              "      <td>شیرینی وانیلی فقط یک مدل بود.</td>\n",
              "      <td>0</td>\n",
              "    </tr>\n",
              "  </tbody>\n",
              "</table>\n",
              "</div>"
            ],
            "text/plain": [
              "                                             comment  label_id\n",
              "0    واقعا حیف وقت که بنویسم سرویس دهیتون شده افتضاح         1\n",
              "1  قرار بود ۱ ساعته برسه ولی نیم ساعت زودتر از مو...         0\n",
              "2  قیمت این مدل اصلا با کیفیتش سازگاری نداره، فقط...         1\n",
              "3  عالللی بود همه چه درست و به اندازه و کیفیت خوب...         0\n",
              "4                      شیرینی وانیلی فقط یک مدل بود.         0"
            ]
          },
          "metadata": {},
          "execution_count": 8
        }
      ]
    },
    {
      "cell_type": "markdown",
      "metadata": {
        "id": "nPzozES613Z6"
      },
      "source": [
        "## Preprocessing text column data"
      ]
    },
    {
      "cell_type": "code",
      "metadata": {
        "colab": {
          "base_uri": "https://localhost:8080/",
          "height": 203
        },
        "id": "L5r_4uto4fF7",
        "outputId": "9d50b563-83d6-4249-edae-6daaa553aa70"
      },
      "source": [
        "# cleaning comments\n",
        "train['cleaned_comment'] = train['comment'].apply(utils_prepro.cleaning)\n",
        "test['cleaned_comment'] = test['comment'].apply(utils_prepro.cleaning)\n",
        "dev['cleaned_comment'] = dev['comment'].apply(utils_prepro.cleaning)\n",
        "\n",
        "train = train[['cleaned_comment', 'label_id']]\n",
        "test = test[['cleaned_comment', 'label_id']]\n",
        "dev = dev[['cleaned_comment', 'label_id']]\n",
        "train.head()"
      ],
      "execution_count": 9,
      "outputs": [
        {
          "output_type": "execute_result",
          "data": {
            "text/html": [
              "<div>\n",
              "<style scoped>\n",
              "    .dataframe tbody tr th:only-of-type {\n",
              "        vertical-align: middle;\n",
              "    }\n",
              "\n",
              "    .dataframe tbody tr th {\n",
              "        vertical-align: top;\n",
              "    }\n",
              "\n",
              "    .dataframe thead th {\n",
              "        text-align: right;\n",
              "    }\n",
              "</style>\n",
              "<table border=\"1\" class=\"dataframe\">\n",
              "  <thead>\n",
              "    <tr style=\"text-align: right;\">\n",
              "      <th></th>\n",
              "      <th>cleaned_comment</th>\n",
              "      <th>label_id</th>\n",
              "    </tr>\n",
              "  </thead>\n",
              "  <tbody>\n",
              "    <tr>\n",
              "      <th>0</th>\n",
              "      <td>واقعا حیف وقت که بنویسم سرویس دهیتون شده افتضاح</td>\n",
              "      <td>1</td>\n",
              "    </tr>\n",
              "    <tr>\n",
              "      <th>1</th>\n",
              "      <td>قرار بود ۱ ساعته برسه ولی نیم ساعت زودتر از مو...</td>\n",
              "      <td>0</td>\n",
              "    </tr>\n",
              "    <tr>\n",
              "      <th>2</th>\n",
              "      <td>قیمت این مدل اصلا با کیفیتش سازگاری نداره، فقط...</td>\n",
              "      <td>1</td>\n",
              "    </tr>\n",
              "    <tr>\n",
              "      <th>3</th>\n",
              "      <td>عالللی بود همه چه درست و به اندازه و کیفیت خوب...</td>\n",
              "      <td>0</td>\n",
              "    </tr>\n",
              "    <tr>\n",
              "      <th>4</th>\n",
              "      <td>شیرینی وانیلی فقط یک مدل بود.</td>\n",
              "      <td>0</td>\n",
              "    </tr>\n",
              "  </tbody>\n",
              "</table>\n",
              "</div>"
            ],
            "text/plain": [
              "                                     cleaned_comment  label_id\n",
              "0    واقعا حیف وقت که بنویسم سرویس دهیتون شده افتضاح         1\n",
              "1  قرار بود ۱ ساعته برسه ولی نیم ساعت زودتر از مو...         0\n",
              "2  قیمت این مدل اصلا با کیفیتش سازگاری نداره، فقط...         1\n",
              "3  عالللی بود همه چه درست و به اندازه و کیفیت خوب...         0\n",
              "4                      شیرینی وانیلی فقط یک مدل بود.         0"
            ]
          },
          "metadata": {},
          "execution_count": 9
        }
      ]
    },
    {
      "cell_type": "code",
      "metadata": {
        "id": "cT2KYO03578N"
      },
      "source": [
        "x_train, y_train = train['cleaned_comment'].values.tolist(), train['label_id'].values.tolist()\n",
        "x_test, y_test = test['cleaned_comment'].values.tolist(), test['label_id'].values.tolist()\n",
        "x_dev, y_dev = dev['cleaned_comment'].values.tolist(), dev['label_id'].values.tolist()"
      ],
      "execution_count": 10,
      "outputs": []
    },
    {
      "cell_type": "code",
      "metadata": {
        "id": "0oBr1BLn3pFR"
      },
      "source": [
        "# Vectorize text reviews to numbers\n",
        "vec = CountVectorizer()\n",
        "X_train = vec.fit_transform(x_train)\n",
        "X_test = vec.transform(x_test)"
      ],
      "execution_count": 12,
      "outputs": []
    },
    {
      "cell_type": "code",
      "metadata": {
        "id": "FIDO-s3_3pPm",
        "colab": {
          "base_uri": "https://localhost:8080/"
        },
        "outputId": "67766a0d-7ead-4c25-b8bd-051f039dd1bc"
      },
      "source": [
        "# Naive bayes model\n",
        "model = MultinomialNB()\n",
        "model.fit(X_train, y_train)"
      ],
      "execution_count": 13,
      "outputs": [
        {
          "output_type": "execute_result",
          "data": {
            "text/plain": [
              "MultinomialNB(alpha=1.0, class_prior=None, fit_prior=True)"
            ]
          },
          "metadata": {},
          "execution_count": 13
        }
      ]
    },
    {
      "cell_type": "code",
      "metadata": {
        "id": "Oqu-Mn3-3pY_",
        "colab": {
          "base_uri": "https://localhost:8080/"
        },
        "outputId": "40861ad0-2b25-41fb-e8c4-6a499cd4890d"
      },
      "source": [
        "model.score(X_test, y_test)"
      ],
      "execution_count": 14,
      "outputs": [
        {
          "output_type": "execute_result",
          "data": {
            "text/plain": [
              "0.8432857142857143"
            ]
          },
          "metadata": {},
          "execution_count": 14
        }
      ]
    },
    {
      "cell_type": "code",
      "metadata": {
        "colab": {
          "base_uri": "https://localhost:8080/"
        },
        "id": "ZIMSb1Zd-Lzj",
        "outputId": "24f4914c-d75e-4bd0-8b25-244aedf9c401"
      },
      "source": [
        "y_pred = model.predict(X_test)\n",
        "print(classification_report(y_test, y_pred, labels=[0,1]))"
      ],
      "execution_count": 19,
      "outputs": [
        {
          "output_type": "stream",
          "text": [
            "              precision    recall  f1-score   support\n",
            "\n",
            "           0       0.87      0.80      0.84      3500\n",
            "           1       0.82      0.89      0.85      3500\n",
            "\n",
            "    accuracy                           0.84      7000\n",
            "   macro avg       0.85      0.84      0.84      7000\n",
            "weighted avg       0.85      0.84      0.84      7000\n",
            "\n"
          ],
          "name": "stdout"
        }
      ]
    },
    {
      "cell_type": "markdown",
      "metadata": {
        "id": "v9ttPRxq9mzq"
      },
      "source": [
        "## To check some samples"
      ]
    },
    {
      "cell_type": "code",
      "metadata": {
        "colab": {
          "base_uri": "https://localhost:8080/"
        },
        "id": "KyYdj6MbH5xR",
        "outputId": "85d9761c-965d-448e-81e9-551ec9fd70df"
      },
      "source": [
        "model.predict(vec.transform(['خیلی سرد بود اصلا دوست نداشتیم']))"
      ],
      "execution_count": 20,
      "outputs": [
        {
          "output_type": "execute_result",
          "data": {
            "text/plain": [
              "array([1])"
            ]
          },
          "metadata": {},
          "execution_count": 20
        }
      ]
    },
    {
      "cell_type": "code",
      "metadata": {
        "colab": {
          "base_uri": "https://localhost:8080/"
        },
        "id": "zWYzipQvL7pC",
        "outputId": "3960997c-fe53-4f72-ab27-a62a0c13d607"
      },
      "source": [
        "model.predict(vec.transform(['عالی و خوشمزه بود']))"
      ],
      "execution_count": 21,
      "outputs": [
        {
          "output_type": "execute_result",
          "data": {
            "text/plain": [
              "array([0])"
            ]
          },
          "metadata": {},
          "execution_count": 21
        }
      ]
    }
  ]
}